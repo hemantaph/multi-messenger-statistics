{
 "cells": [
  {
   "cell_type": "markdown",
   "metadata": {},
   "source": [
    "# Quick tutorial on how to generate gravitational waves parameters for Binary Neutron Star mergers for lensed and unlensed events"
   ]
  },
  {
   "cell_type": "code",
   "execution_count": null,
   "metadata": {},
   "outputs": [],
   "source": [
    "## ler installation\n",
    "## dodumentation: https://ler.readthedocs.io/en/latest/index.html\n",
    "## GitHub: https://github.com/hemantaph/ler\n",
    "# !pip install ler"
   ]
  },
  {
   "cell_type": "markdown",
   "metadata": {},
   "source": [
    "## `ler` setup and initialization"
   ]
  },
  {
   "cell_type": "code",
   "execution_count": 1,
   "metadata": {},
   "outputs": [
    {
     "name": "stdout",
     "output_type": "stream",
     "text": [
      "Setting multiprocessing start method to 'fork'\n"
     ]
    }
   ],
   "source": [
    "from ler.rates import LeR"
   ]
  },
  {
   "cell_type": "code",
   "execution_count": 2,
   "metadata": {},
   "outputs": [
    {
     "name": "stdout",
     "output_type": "stream",
     "text": [
      "z_to_luminosity_distance interpolator will be loaded from ./interpolator_pickle/z_to_luminosity_distance/z_to_luminosity_distance_0.pickle\n",
      "differential_comoving_volume interpolator will be loaded from ./interpolator_pickle/differential_comoving_volume/differential_comoving_volume_0.pickle\n",
      "merger_rate_density interpolator will be loaded from ./interpolator_pickle/merger_rate_density/merger_rate_density_0.pickle\n",
      "binary_masses_BNS_bimodal interpolator will be loaded from ./interpolator_pickle/binary_masses_BNS_bimodal/binary_masses_BNS_bimodal_0.pickle\n",
      "z_to_Dc interpolator will be loaded from ./interpolator_pickle/z_to_Dc/z_to_Dc_0.pickle\n",
      "Dc_to_z interpolator will be loaded from ./interpolator_pickle/Dc_to_z/Dc_to_z_0.pickle\n",
      "angular_diameter_distance interpolator will be loaded from ./interpolator_pickle/angular_diameter_distance/angular_diameter_distance_0.pickle\n",
      "differential_comoving_volume interpolator will be loaded from ./interpolator_pickle/differential_comoving_volume/differential_comoving_volume_1.pickle\n",
      "velocity_dispersion_ewoud interpolator will be loaded from ./interpolator_pickle/velocity_dispersion_ewoud/velocity_dispersion_ewoud_0.pickle\n",
      "optical_depth_SIE_hemanta interpolator will be loaded from ./interpolator_pickle/optical_depth_SIE_hemanta/optical_depth_SIE_hemanta_0.pickle\n",
      "input_params_image {'n_min_images': 2, 'n_max_images': 4, 'geocent_time_min': 1126259462.4, 'geocent_time_max': 1756979462.4, 'lens_model_list': ['EPL_NUMBA', 'SHEAR'], 'source_priors': None, 'source_priors_params': None, 'spin_zero': False, 'spin_precession': True}\n",
      "luminosity_distance_to_z interpolator will be loaded from ./interpolator_pickle/luminosity_distance_to_z/luminosity_distance_to_z_0.pickle\n",
      "psds not given. Choosing bilby's default psds\n",
      "Intel processor has trouble allocating memory when the data is huge. So, by default for IMRPhenomXPHM, duration_max = 64.0. Otherwise, set to some max value like duration_max = 600.0 (10 mins)\n",
      "\n",
      " # LeR set up params:\n",
      "npool = 4,\n",
      "z_min = 0.0,\n",
      "z_max = 10.0,\n",
      "event_type = 'BNS',\n",
      "size = 100000,\n",
      "batch_size = 50000,\n",
      "cosmology = LambdaCDM(H0=70.0 km / (Mpc s), Om0=0.3, Ode0=0.7, Tcmb0=0.0 K, Neff=3.04, m_nu=None, Ob0=None),\n",
      "snr_finder = <bound method GWSNR.snr of <gwsnr.gwsnr.GWSNR object at 0x1077fbd00>>,\n",
      "json_file_names = {'ler_params': 'ler_params.json', 'unlensed_param': 'unlensed_param.json', 'unlensed_param_detectable': 'unlensed_param_detectable.json', 'lensed_param': 'lensed_param.json', 'lensed_param_detectable': 'lensed_param_detectable.json'},\n",
      "interpolator_directory = './interpolator_pickle',\n",
      "ler_directory = './ler_data',\n",
      "\n",
      " # LeR also takes CBCSourceParameterDistribution class params as kwargs, as follows:\n",
      "source_priors = {'merger_rate_density': 'merger_rate_density_bbh_popI_II_oguri2018', 'source_frame_masses': 'binary_masses_BNS_bimodal', 'zs': 'sample_source_redshift', 'geocent_time': 'sampler_uniform', 'ra': 'sampler_uniform', 'dec': 'sampler_cosine', 'phase': 'sampler_uniform', 'psi': 'sampler_uniform', 'theta_jn': 'sampler_sine', 'a_1': 'sampler_uniform', 'a_2': 'sampler_uniform', 'tilt_1': 'sampler_sine', 'tilt_2': 'sampler_sine', 'phi_12': 'sampler_uniform', 'phi_jl': 'sampler_uniform'},\n",
      "source_priors_params = {'merger_rate_density': {'R0': 1.0550000000000001e-07, 'b2': 1.6, 'b3': 2.0, 'b4': 30}, 'source_frame_masses': {'w': 0.643, 'muL': 1.352, 'sigmaL': 0.08, 'muR': 1.88, 'sigmaR': 0.3, 'mmin': 1.0, 'mmax': 2.3}, 'zs': None, 'geocent_time': {'min_': 1238166018, 'max_': 1269702018}, 'ra': {'min_': 0.0, 'max_': 6.283185307179586}, 'dec': None, 'phase': {'min_': 0.0, 'max_': 6.283185307179586}, 'psi': {'min_': 0.0, 'max_': 3.141592653589793}, 'theta_jn': None, 'a_1': {'min_': 0.0, 'max_': 0.05}, 'a_2': {'min_': 0.0, 'max_': 0.05}, 'tilt_1': None, 'tilt_2': None, 'phi_12': {'min_': 0, 'max_': 6.283185307179586}, 'phi_jl': {'min_': 0, 'max_': 6.283185307179586}},\n",
      "spin_zero = False,\n",
      "spin_precession = True,\n",
      "create_new_interpolator = False,\n",
      "\n",
      " # LeR also takes LensGalaxyParameterDistribution class params as kwargs, as follows:\n",
      "lens_type = 'epl_galaxy',\n",
      "lens_functions = {'strong_lensing_condition': 'rjs_with_cross_section_SIE', 'optical_depth': 'optical_depth_SIE_hemanta', 'param_sampler_type': 'sample_all_routine'},\n",
      "lens_priors = {'source_redshift_sl': 'strongly_lensed_source_redshifts', 'lens_redshift': 'lens_redshift_SDSS_catalogue', 'velocity_dispersion': 'velocity_dispersion_ewoud', 'axis_ratio': 'axis_ratio_rayleigh', 'axis_rotation_angle': 'axis_rotation_angle_uniform', 'shear': 'shear_norm', 'mass_density_spectral_index': 'mass_density_spectral_index_normal', 'source_parameters': 'sample_gw_parameters'},\n",
      "lens_priors_params = {'source_redshift_sl': None, 'lens_redshift': None, 'velocity_dispersion': None, 'axis_ratio': {'q_min': 0.2, 'q_max': 1.0}, 'axis_rotation_angle': {'phi_min': 0.0, 'phi_max': 6.283185307179586}, 'shear': {'scale': 0.05}, 'mass_density_spectral_index': {'mean': 2.0, 'std': 0.2}, 'source_parameters': None},\n",
      "\n",
      " # LeR also takes ImageProperties class params as kwargs, as follows:\n",
      "n_min_images = 2,\n",
      "n_max_images = 4,\n",
      "geocent_time_min = 1126259462.4,\n",
      "geocent_time_max = 1756979462.4,\n",
      "lens_model_list = ['EPL_NUMBA', 'SHEAR'],\n",
      "\n",
      " # LeR also takes gwsnr.GWSNR params as kwargs, as follows:\n",
      "mtot_min = 2.0,\n",
      "mtot_max = 184.98599853446768,\n",
      "ratio_min = 0.1,\n",
      "ratio_max = 1.0,\n",
      "mtot_resolution = 500,\n",
      "ratio_resolution = 50,\n",
      "sampling_frequency = 2048.0,\n",
      "waveform_approximant = 'IMRPhenomXPHM',\n",
      "minimum_frequency = 20.0,\n",
      "snr_type = 'inner_product',\n",
      "psds = [PowerSpectralDensity(psd_file='None', asd_file='/Users/phurailatpamhemantakumar/anaconda3/envs/lertest/lib/python3.10/site-packages/bilby/gw/detector/noise_curves/aLIGO_O4_high_asd.txt'), PowerSpectralDensity(psd_file='None', asd_file='/Users/phurailatpamhemantakumar/anaconda3/envs/lertest/lib/python3.10/site-packages/bilby/gw/detector/noise_curves/aLIGO_O4_high_asd.txt'), PowerSpectralDensity(psd_file='None', asd_file='/Users/phurailatpamhemantakumar/anaconda3/envs/lertest/lib/python3.10/site-packages/bilby/gw/detector/noise_curves/AdV_asd.txt')],\n",
      "ifos = None,\n",
      "interpolator_dir = './interpolator_pickle',\n",
      "gwsnr_verbose = False,\n",
      "multiprocessing_verbose = True,\n",
      "mtot_cut = True,\n",
      "\n",
      " For reference, the chosen source parameters are listed below:\n",
      "merger_rate_density = 'merger_rate_density_bbh_popI_II_oguri2018'\n",
      "merger_rate_density_params =  {'R0': 1.0550000000000001e-07, 'b2': 1.6, 'b3': 2.0, 'b4': 30}\n",
      "source_frame_masses = 'binary_masses_BNS_bimodal'\n",
      "source_frame_masses_params =  {'w': 0.643, 'muL': 1.352, 'sigmaL': 0.08, 'muR': 1.88, 'sigmaR': 0.3, 'mmin': 1.0, 'mmax': 2.3}\n",
      "geocent_time = 'sampler_uniform'\n",
      "geocent_time_params =  {'min_': 1238166018, 'max_': 1269702018}\n",
      "ra = 'sampler_uniform'\n",
      "ra_params =  {'min_': 0.0, 'max_': 6.283185307179586}\n",
      "dec = 'sampler_cosine'\n",
      "dec_params =  None\n",
      "phase = 'sampler_uniform'\n",
      "phase_params =  {'min_': 0.0, 'max_': 6.283185307179586}\n",
      "psi = 'sampler_uniform'\n",
      "psi_params =  {'min_': 0.0, 'max_': 3.141592653589793}\n",
      "theta_jn = 'sampler_sine'\n",
      "theta_jn_params =  None\n",
      "a_1 = 'sampler_uniform'\n",
      "a_1_params =  {'min_': 0.0, 'max_': 0.05}\n",
      "a_2 = 'sampler_uniform'\n",
      "a_2_params =  {'min_': 0.0, 'max_': 0.05}\n",
      "tilt_1 = 'sampler_sine'\n",
      "tilt_1_params =  None\n",
      "tilt_2 = 'sampler_sine'\n",
      "tilt_2_params =  None\n",
      "phi_12 = 'sampler_uniform'\n",
      "phi_12_params =  {'min_': 0, 'max_': 6.283185307179586}\n",
      "phi_jl = 'sampler_uniform'\n",
      "phi_jl_params =  {'min_': 0, 'max_': 6.283185307179586}\n",
      "\n",
      " For reference, the chosen lens related parameters and functions are listed below:\n",
      "lens_redshift = 'lens_redshift_SDSS_catalogue'\n",
      "lens_redshift_params =  None\n",
      "velocity_dispersion = 'velocity_dispersion_ewoud'\n",
      "velocity_dispersion_params =  None\n",
      "axis_ratio = 'axis_ratio_rayleigh'\n",
      "axis_ratio_params =  {'q_min': 0.2, 'q_max': 1.0}\n",
      "axis_rotation_angle = 'axis_rotation_angle_uniform'\n",
      "axis_rotation_angle_params =  {'phi_min': 0.0, 'phi_max': 6.283185307179586}\n",
      "shear = 'shear_norm'\n",
      "shear_params =  {'scale': 0.05}\n",
      "mass_density_spectral_index = 'mass_density_spectral_index_normal'\n",
      "mass_density_spectral_index_params =  {'mean': 2.0, 'std': 0.2}\n",
      "Lens functions:\n",
      "strong_lensing_condition = 'rjs_with_cross_section_SIE'\n",
      "optical_depth = 'optical_depth_SIE_hemanta'\n"
     ]
    }
   ],
   "source": [
    "ler = LeR(\n",
    "    npool=6,\n",
    "    event_type='BNS',\n",
    "    waveform_approximant = 'IMRPhenomXPHM',\n",
    "    snr_type = 'inner_product',\n",
    "    spin_zero = False,\n",
    "    spin_precession = True,\n",
    ")"
   ]
  },
  {
   "cell_type": "markdown",
   "metadata": {},
   "source": [
    "## Unlensed parameters sampling \n",
    "\n",
    "### All parameters"
   ]
  },
  {
   "cell_type": "code",
   "execution_count": 4,
   "metadata": {},
   "outputs": [
    {
     "name": "stdout",
     "output_type": "stream",
     "text": [
      "unlensed params will be store in ./ler_data/unlensed_param.json\n",
      "chosen batch size = 10000 with total size = 40000\n",
      "There will be 4 batche(s)\n",
      "resuming from ./ler_data/unlensed_param.json\n",
      "Batch no. 3\n",
      "sampling gw source params...\n",
      "calculating snrs...\n",
      "solving SNR with inner product\n"
     ]
    },
    {
     "name": "stderr",
     "output_type": "stream",
     "text": [
      "100%|████████████████████████████████████████████████████████| 10000/10000 [01:26<00:00, 116.14it/s]\n"
     ]
    },
    {
     "name": "stdout",
     "output_type": "stream",
     "text": [
      "Batch no. 4\n",
      "sampling gw source params...\n",
      "calculating snrs...\n",
      "solving SNR with inner product\n"
     ]
    },
    {
     "name": "stderr",
     "output_type": "stream",
     "text": [
      "100%|████████████████████████████████████████████████████████| 10000/10000 [01:29<00:00, 111.13it/s]\n"
     ]
    },
    {
     "name": "stdout",
     "output_type": "stream",
     "text": [
      "saving all unlensed parameters in ./ler_data/unlensed_param.json \n"
     ]
    }
   ],
   "source": [
    "ler.batch_size = 10000\n",
    "unlensed_param = ler.unlensed_cbc_statistics(size=40000, resume=True)"
   ]
  },
  {
   "cell_type": "code",
   "execution_count": 5,
   "metadata": {},
   "outputs": [
    {
     "data": {
      "text/plain": [
       "dict_keys(['zs', 'geocent_time', 'ra', 'dec', 'phase', 'psi', 'theta_jn', 'a_1', 'a_2', 'tilt_1', 'tilt_2', 'phi_12', 'phi_jl', 'luminosity_distance', 'mass_1_source', 'mass_2_source', 'mass_1', 'mass_2', 'L1', 'H1', 'V1', 'optimal_snr_net'])"
      ]
     },
     "execution_count": 5,
     "metadata": {},
     "output_type": "execute_result"
    }
   ],
   "source": [
    "unlensed_param.keys()"
   ]
  },
  {
   "cell_type": "markdown",
   "metadata": {},
   "source": [
    "### Detectable parameters and Event Rate"
   ]
  },
  {
   "cell_type": "code",
   "execution_count": 13,
   "metadata": {},
   "outputs": [
    {
     "name": "stdout",
     "output_type": "stream",
     "text": [
      "Getting unlensed_param from json file ./ler_data/unlensed_param.json...\n",
      "given detectability_condition == 'step_function'\n",
      "total unlensed rate (yr^-1): 22.84867278625103\n",
      "number of simulated unlensed detectable events: 2\n",
      "number of simulated all unlensed events: 40000\n",
      "storing detectable params in ./ler_data/unlensed_param_detectable.json\n"
     ]
    }
   ],
   "source": [
    "unlensed_rate, unlensed_param_detectable = ler.unlensed_rate(snr_threshold=6)"
   ]
  },
  {
   "cell_type": "markdown",
   "metadata": {},
   "source": [
    "### Effective spin"
   ]
  },
  {
   "cell_type": "code",
   "execution_count": 14,
   "metadata": {},
   "outputs": [
    {
     "name": "stdout",
     "output_type": "stream",
     "text": [
      "Effective Spin (χ_eff): [-0.0129419   0.0198425   0.01227857 ... -0.00314272  0.00012666\n",
      "  0.0046129 ]\n"
     ]
    }
   ],
   "source": [
    "import numpy as np\n",
    "\n",
    "# spin and mass parameters\n",
    "a_1 = unlensed_param['a_1']\n",
    "a_2 = unlensed_param['a_2']\n",
    "tilt_1 = unlensed_param['tilt_1']\n",
    "tilt_2 = unlensed_param['tilt_2']\n",
    "m1 = unlensed_param['mass_1_source']\n",
    "m2 = unlensed_param['mass_2_source']\n",
    "\n",
    "# Calculate effective spin\n",
    "chi_eff = (\n",
    "    (unlensed_param['mass_1_source'] * unlensed_param['a_1'] * np.cos(unlensed_param['tilt_1']) +\n",
    "     unlensed_param['mass_2_source'] * unlensed_param['a_2'] * np.cos(unlensed_param['tilt_2'])) /\n",
    "    (unlensed_param['mass_1_source'] + unlensed_param['mass_2_source'])\n",
    ")\n",
    "\n",
    "print(\"Effective Spin (χ_eff):\", chi_eff)"
   ]
  },
  {
   "cell_type": "code",
   "execution_count": 15,
   "metadata": {},
   "outputs": [
    {
     "data": {
      "image/png": "[encoded data removed]",
      "text/plain": [
       "<Figure size 640x480 with 1 Axes>"
      ]
     },
     "metadata": {},
     "output_type": "display_data"
    }
   ],
   "source": [
    "import matplotlib.pyplot as plt\n",
    "\n",
    "plt.hist(chi_eff, bins=100, histtype='step', color='r', label='Lensed')\n",
    "plt.show()"
   ]
  },
  {
   "cell_type": "markdown",
   "metadata": {},
   "source": [
    "## Lensed parameters sampling\n",
    "\n",
    "### All parameters"
   ]
  },
  {
   "cell_type": "code",
   "execution_count": 6,
   "metadata": {},
   "outputs": [
    {
     "name": "stdout",
     "output_type": "stream",
     "text": [
      "lensed params will be store in ./ler_data/lensed_param.json\n",
      "chosen batch size = 10000 with total size = 20000\n",
      "There will be 2 batche(s)\n",
      "Batch no. 1\n",
      "sampling lensed params...\n",
      "solving lens equations...\n"
     ]
    },
    {
     "name": "stderr",
     "output_type": "stream",
     "text": [
      "100%|███████████████████████████████████████████████████████| 10000/10000 [00:02<00:00, 3634.44it/s]\n"
     ]
    },
    {
     "name": "stdout",
     "output_type": "stream",
     "text": [
      "calculating snrs...\n",
      "solving SNR with inner product\n"
     ]
    },
    {
     "name": "stderr",
     "output_type": "stream",
     "text": [
      "100%|████████████████████████████████████████████████████████| 10000/10000 [01:10<00:00, 142.72it/s]\n"
     ]
    },
    {
     "name": "stdout",
     "output_type": "stream",
     "text": [
      "solving SNR with inner product\n"
     ]
    },
    {
     "name": "stderr",
     "output_type": "stream",
     "text": [
      "100%|████████████████████████████████████████████████████████| 10000/10000 [01:09<00:00, 143.32it/s]"
     ]
    },
    {
     "name": "stdout",
     "output_type": "stream",
     "text": [
      "solving SNR with inner product\n"
     ]
    },
    {
     "name": "stderr",
     "output_type": "stream",
     "text": [
      "\n",
      "100%|██████████████████████████████████████████████████████████| 1308/1308 [00:09<00:00, 138.87it/s]"
     ]
    },
    {
     "name": "stdout",
     "output_type": "stream",
     "text": [
      "solving SNR with inner product\n"
     ]
    },
    {
     "name": "stderr",
     "output_type": "stream",
     "text": [
      "\n",
      "100%|██████████████████████████████████████████████████████████| 1127/1127 [00:08<00:00, 137.94it/s]\n"
     ]
    },
    {
     "name": "stdout",
     "output_type": "stream",
     "text": [
      "Batch no. 2\n",
      "sampling lensed params...\n",
      "solving lens equations...\n"
     ]
    },
    {
     "name": "stderr",
     "output_type": "stream",
     "text": [
      "100%|███████████████████████████████████████████████████████| 10000/10000 [00:02<00:00, 3614.29it/s]"
     ]
    },
    {
     "name": "stdout",
     "output_type": "stream",
     "text": [
      "calculating snrs...\n",
      "solving SNR with inner product\n"
     ]
    },
    {
     "name": "stderr",
     "output_type": "stream",
     "text": [
      "\n",
      "100%|████████████████████████████████████████████████████████| 10000/10000 [01:09<00:00, 143.23it/s]\n"
     ]
    },
    {
     "name": "stdout",
     "output_type": "stream",
     "text": [
      "solving SNR with inner product\n"
     ]
    },
    {
     "name": "stderr",
     "output_type": "stream",
     "text": [
      "100%|████████████████████████████████████████████████████████| 10000/10000 [01:09<00:00, 143.26it/s]\n"
     ]
    },
    {
     "name": "stdout",
     "output_type": "stream",
     "text": [
      "solving SNR with inner product\n"
     ]
    },
    {
     "name": "stderr",
     "output_type": "stream",
     "text": [
      "100%|██████████████████████████████████████████████████████████| 1220/1220 [00:08<00:00, 140.50it/s]"
     ]
    },
    {
     "name": "stdout",
     "output_type": "stream",
     "text": [
      "solving SNR with inner product\n"
     ]
    },
    {
     "name": "stderr",
     "output_type": "stream",
     "text": [
      "\n",
      "100%|██████████████████████████████████████████████████████████| 1057/1057 [00:07<00:00, 138.66it/s]\n"
     ]
    },
    {
     "name": "stdout",
     "output_type": "stream",
     "text": [
      "saving all lensed parameters in ./ler_data/lensed_param.json \n"
     ]
    }
   ],
   "source": [
    "ler.batch_size = 10000\n",
    "lensed_param = ler.lensed_cbc_statistics(size=20000)"
   ]
  },
  {
   "cell_type": "code",
   "execution_count": 7,
   "metadata": {},
   "outputs": [
    {
     "data": {
      "text/plain": [
       "dict_keys(['zl', 'zs', 'sigma', 'q', 'theta_E', 'phi', 'e1', 'e2', 'gamma1', 'gamma2', 'gamma', 'geocent_time', 'ra', 'dec', 'phase', 'psi', 'theta_jn', 'a_1', 'a_2', 'tilt_1', 'tilt_2', 'phi_12', 'phi_jl', 'luminosity_distance', 'mass_1_source', 'mass_2_source', 'mass_1', 'mass_2', 'x0_image_positions', 'x1_image_positions', 'magnifications', 'time_delays', 'image_type', 'n_images', 'x_source', 'y_source', 'effective_luminosity_distance', 'effective_geocent_time', 'optimal_snr_net', 'L1', 'H1', 'V1'])"
      ]
     },
     "execution_count": 7,
     "metadata": {},
     "output_type": "execute_result"
    }
   ],
   "source": [
    "lensed_param.keys()"
   ]
  },
  {
   "cell_type": "markdown",
   "metadata": {},
   "source": [
    "### Detectable parameters and event rate"
   ]
  },
  {
   "cell_type": "code",
   "execution_count": 8,
   "metadata": {},
   "outputs": [
    {
     "name": "stdout",
     "output_type": "stream",
     "text": [
      "Getting lensed_param from json file ./ler_data/lensed_param.json...\n",
      "given detectability_condition == step_function\n",
      "total lensed rate (yr^-1): 0.05009154953445038\n",
      "number of simulated lensed detectable events: 1\n",
      "number of simulated all lensed events: 20000\n",
      "storing detectable params in ./ler_data/lensed_param_detectable.json\n"
     ]
    }
   ],
   "source": [
    "lensed_rate, lensed_param_detectable = ler.lensed_rate(snr_threshold=6, num_img=2)"
   ]
  },
  {
   "cell_type": "code",
   "execution_count": 9,
   "metadata": {},
   "outputs": [
    {
     "data": {
      "text/plain": [
       "dict_keys(['zl', 'zs', 'sigma', 'q', 'theta_E', 'phi', 'e1', 'e2', 'gamma1', 'gamma2', 'gamma', 'geocent_time', 'ra', 'dec', 'phase', 'psi', 'theta_jn', 'a_1', 'a_2', 'tilt_1', 'tilt_2', 'phi_12', 'phi_jl', 'luminosity_distance', 'mass_1_source', 'mass_2_source', 'mass_1', 'mass_2', 'x0_image_positions', 'x1_image_positions', 'magnifications', 'time_delays', 'image_type', 'n_images', 'x_source', 'y_source', 'effective_luminosity_distance', 'effective_geocent_time', 'optimal_snr_net', 'L1', 'H1', 'V1'])"
      ]
     },
     "execution_count": 9,
     "metadata": {},
     "output_type": "execute_result"
    }
   ],
   "source": [
    "lensed_param_detectable.keys()"
   ]
  },
  {
   "cell_type": "markdown",
   "metadata": {},
   "source": [
    "## Getting parameters from the stored json file"
   ]
  },
  {
   "cell_type": "code",
   "execution_count": 10,
   "metadata": {},
   "outputs": [
    {
     "data": {
      "text/plain": [
       "dict_keys(['zl', 'zs', 'sigma', 'q', 'theta_E', 'phi', 'e1', 'e2', 'gamma1', 'gamma2', 'gamma', 'geocent_time', 'ra', 'dec', 'phase', 'psi', 'theta_jn', 'a_1', 'a_2', 'tilt_1', 'tilt_2', 'phi_12', 'phi_jl', 'luminosity_distance', 'mass_1_source', 'mass_2_source', 'mass_1', 'mass_2', 'x0_image_positions', 'x1_image_positions', 'magnifications', 'time_delays', 'image_type', 'n_images', 'x_source', 'y_source', 'effective_luminosity_distance', 'effective_geocent_time', 'optimal_snr_net', 'L1', 'H1', 'V1'])"
      ]
     },
     "execution_count": 10,
     "metadata": {},
     "output_type": "execute_result"
    }
   ],
   "source": [
    "from ler.utils import get_param_from_json\n",
    "\n",
    "lensed_param = get_param_from_json('./ler_data/lensed_param_detectable.json')\n",
    "lensed_param.keys()"
   ]
  },
  {
   "cell_type": "code",
   "execution_count": null,
   "metadata": {},
   "outputs": [],
   "source": []
  }
 ],
 "metadata": {
  "kernelspec": {
   "display_name": "lertest",
   "language": "python",
   "name": "lertest"
  },
  "language_info": {
   "codemirror_mode": {
    "name": "ipython",
    "version": 3
   },
   "file_extension": ".py",
   "mimetype": "text/x-python",
   "name": "python",
   "nbconvert_exporter": "python",
   "pygments_lexer": "ipython3",
   "version": "3.10.16"
  }
 },
 "nbformat": 4,
 "nbformat_minor": 2
}
